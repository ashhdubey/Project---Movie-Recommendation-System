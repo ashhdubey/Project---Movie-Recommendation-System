{
  "nbformat": 4,
  "nbformat_minor": 0,
  "metadata": {
    "colab": {
      "provenance": [],
      "authorship_tag": "ABX9TyMMVMvxFsNa+0LC38RTR7RI",
      "include_colab_link": true
    },
    "kernelspec": {
      "name": "python3",
      "display_name": "Python 3"
    },
    "language_info": {
      "name": "python"
    }
  },
  "cells": [
    {
      "cell_type": "markdown",
      "metadata": {
        "id": "view-in-github",
        "colab_type": "text"
      },
      "source": [
        "<a href=\"https://colab.research.google.com/github/ashhdubey/Project---Movie-Recommendation-System/blob/main/MovieRecommendationSystem.ipynb\" target=\"_parent\"><img src=\"https://colab.research.google.com/assets/colab-badge.svg\" alt=\"Open In Colab\"/></a>"
      ]
    },
    {
      "cell_type": "markdown",
      "source": [
        "#Movie Recommendation System"
      ],
      "metadata": {
        "id": "ibZn6llM-J5T"
      }
    },
    {
      "cell_type": "code",
      "execution_count": 1,
      "metadata": {
        "id": "5zqlmARk9m-I"
      },
      "outputs": [],
      "source": [
        "import pandas as pd\n",
        "from sklearn.feature_extraction.text import TfidfVectorizer\n",
        "from sklearn.metrics.pairwise import cosine_similarity\n",
        "import difflib"
      ]
    },
    {
      "cell_type": "markdown",
      "source": [
        "# Load the dataset"
      ],
      "metadata": {
        "id": "MoBR4LgS-E5V"
      }
    },
    {
      "cell_type": "code",
      "source": [
        "url = 'https://raw.githubusercontent.com/YBI-Foundation/Dataset/main/Movies%20Recommendation.csv'\n",
        "df = pd.read_csv(url)"
      ],
      "metadata": {
        "id": "imIT_Ia9-HQz"
      },
      "execution_count": 2,
      "outputs": []
    },
    {
      "cell_type": "markdown",
      "source": [
        "# Select relevant features for recommendation"
      ],
      "metadata": {
        "id": "F1sbaPhP-TVb"
      }
    },
    {
      "cell_type": "code",
      "source": [
        "df_features = df[['Movie_Genre', 'Movie_Keywords', 'Movie_Tagline', 'Movie_Cast', 'Movie_Director']].fillna('')"
      ],
      "metadata": {
        "id": "4-oSnBjb-S3z"
      },
      "execution_count": 3,
      "outputs": []
    },
    {
      "cell_type": "markdown",
      "source": [
        "# Combine textual features into a single column"
      ],
      "metadata": {
        "id": "togUalY3-fAz"
      }
    },
    {
      "cell_type": "code",
      "source": [
        "df_features['combined_features'] = df_features['Movie_Genre'] + ' ' + df_features['Movie_Keywords'] + ' ' + \\\n",
        "                                   df_features['Movie_Tagline'] + ' ' + df_features['Movie_Cast'] + ' ' + \\\n",
        "                                   df_features['Movie_Director']"
      ],
      "metadata": {
        "id": "E488YOhE-fwj"
      },
      "execution_count": 4,
      "outputs": []
    },
    {
      "cell_type": "markdown",
      "source": [
        "# TF-IDF Vectorization"
      ],
      "metadata": {
        "id": "gA2DO23w-lrj"
      }
    },
    {
      "cell_type": "code",
      "source": [
        "tfidf = TfidfVectorizer(stop_words='english')\n",
        "X = tfidf.fit_transform(df_features['combined_features'])"
      ],
      "metadata": {
        "id": "YFgkkILy-lzz"
      },
      "execution_count": 5,
      "outputs": []
    },
    {
      "cell_type": "markdown",
      "source": [
        "# Compute cosine similarity matrix"
      ],
      "metadata": {
        "id": "kSArMpgM-vsC"
      }
    },
    {
      "cell_type": "code",
      "source": [
        "cosine_sim = cosine_similarity(X, X)"
      ],
      "metadata": {
        "id": "LJ1hhQW5-xrj"
      },
      "execution_count": 6,
      "outputs": []
    },
    {
      "cell_type": "markdown",
      "source": [
        "# Function to recommend movies"
      ],
      "metadata": {
        "id": "T3ZVMEy_-0ab"
      }
    },
    {
      "cell_type": "code",
      "source": [
        "def recommend_movies(movie_name, cosine_sim, df, top=10):\n",
        "    indices = pd.Series(df.index, index=df['Movie_Title']).drop_duplicates()\n",
        "    try:\n",
        "        idx = indices[movie_name]\n",
        "    except KeyError:\n",
        "        close_matches = difflib.get_close_matches(movie_name, df['Movie_Title'])\n",
        "        if not close_matches:\n",
        "            print(\"No close match found for input movie name.\")\n",
        "            return\n",
        "        else:\n",
        "            print(f\"Did you mean '{close_matches[0]}'?\")\n",
        "            idx = indices[close_matches[0]]\n",
        "\n",
        "    sim_scores = list(enumerate(cosine_sim[idx]))\n",
        "    sim_scores = sorted(sim_scores, key=lambda x: x[1], reverse=True)\n",
        "    sim_scores = sim_scores[1:top+1]\n",
        "    movie_indices = [i[0] for i in sim_scores]\n",
        "\n",
        "    return df['Movie_Title'].iloc[movie_indices]"
      ],
      "metadata": {
        "id": "VjB_xI4P-2S7"
      },
      "execution_count": 7,
      "outputs": []
    },
    {
      "cell_type": "markdown",
      "source": [
        "# Example usage: Ask user for favorite movie and recommend similar movies"
      ],
      "metadata": {
        "id": "4xrVYYXS-6Gi"
      }
    },
    {
      "cell_type": "code",
      "source": [
        "favorite_movie_name = input('Enter your favorite movie name: ')\n",
        "\n",
        "recommended_movies = recommend_movies(favorite_movie_name, cosine_sim, df)\n",
        "if recommended_movies is not None:\n",
        "    print(f'Top 10 Movies suggested for you based on \"{favorite_movie_name}\":')\n",
        "    print(recommended_movies)\n"
      ],
      "metadata": {
        "id": "H1ji5hQp-8HK"
      },
      "execution_count": null,
      "outputs": []
    }
  ]
}